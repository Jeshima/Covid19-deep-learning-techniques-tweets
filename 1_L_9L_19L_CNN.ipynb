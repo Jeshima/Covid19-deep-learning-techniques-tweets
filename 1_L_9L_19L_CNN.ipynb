{
  "nbformat": 4,
  "nbformat_minor": 0,
  "metadata": {
    "colab": {
      "name": "1 L-9L-19L-CNN.ipynb",
      "provenance": [],
      "collapsed_sections": []
    },
    "kernelspec": {
      "name": "python3",
      "display_name": "Python 3"
    }
  },
  "cells": [
    {
      "cell_type": "code",
      "metadata": {
        "id": "gqfyzMW_oRSi",
        "colab_type": "code",
        "colab": {}
      },
      "source": [
        "import os\n",
        "import tensorflow\n",
        "os.environ['KERAS_BACKEND'] = 'tensorflow'\n",
        "\n",
        "import keras\n",
        "from keras.models import Sequential\n",
        "from keras.layers import Dense, Embedding, SpatialDropout1D\n",
        "from keras.layers import Dropout, Activation, Conv1D, GlobalMaxPooling1D\n",
        "\n",
        "from keras.preprocessing.text import Tokenizer\n",
        "from keras.preprocessing.sequence import pad_sequences\n",
        "\n",
        "import pandas as pd\n",
        "from termcolor import colored\n",
        "\n"
      ],
      "execution_count": 25,
      "outputs": []
    },
    {
      "cell_type": "code",
      "metadata": {
        "id": "Lb0kFyZxoVM2",
        "colab_type": "code",
        "colab": {
          "base_uri": "https://localhost:8080/",
          "height": 34
        },
        "outputId": "6d05a9cb-f951-4100-c8ee-beb8cf4f07ea"
      },
      "source": [
        "from google.colab import drive\n",
        "drive.mount('/content/drive/')"
      ],
      "execution_count": 26,
      "outputs": [
        {
          "output_type": "stream",
          "text": [
            "Drive already mounted at /content/drive/; to attempt to forcibly remount, call drive.mount(\"/content/drive/\", force_remount=True).\n"
          ],
          "name": "stdout"
        }
      ]
    },
    {
      "cell_type": "code",
      "metadata": {
        "id": "fE5PUbhcopUC",
        "colab_type": "code",
        "colab": {
          "base_uri": "https://localhost:8080/",
          "height": 68
        },
        "outputId": "ad93207f-b044-471a-9119-ee46de7d3345"
      },
      "source": [
        "\n",
        "# Import twitter data\n",
        "print(colored(\"Loading train and test data\", \"green\"))\n",
        "\n",
        "tr = pd.read_csv(\"/content/drive/My Drive/big.csv\")\n",
        "te = pd.read_csv(\"/content/drive/My Drive/twt_#ifc.csv\")\n",
        "\n",
        "tr.full_text=tr.full_text.astype(str)\n",
        "te.full_text=te.full_text.astype(str)\n",
        "print(colored(\"... \\nData loaded\", \"green\"))\n"
      ],
      "execution_count": 27,
      "outputs": [
        {
          "output_type": "stream",
          "text": [
            "\u001b[32mLoading train and test data\u001b[0m\n",
            "\u001b[32m... \n",
            "Data loaded\u001b[0m\n"
          ],
          "name": "stdout"
        }
      ]
    },
    {
      "cell_type": "code",
      "metadata": {
        "id": "YLUG5irVp_BU",
        "colab_type": "code",
        "colab": {
          "base_uri": "https://localhost:8080/",
          "height": 51
        },
        "outputId": "c568d89e-bc5d-4d60-b827-e7f400720814"
      },
      "source": [
        "\n",
        "# Tokenization\n",
        "print(colored(\"Tokenizing and padding data\", \"green\"))\n",
        "tokenizer = Tokenizer(num_words = 2000, split = ' ')\n",
        "tokenizer.fit_on_texts(tr['full_text'].astype(str).values)\n",
        "train_tweets = tokenizer.texts_to_sequences(tr['full_text'].astype(str).values)\n",
        "max_len = max([len(i) for i in train_tweets])\n",
        "train_tweets = pad_sequences(train_tweets, maxlen = max_len)\n",
        "test_tweets = tokenizer.texts_to_sequences(te['full_text'].astype(str).values)\n",
        "test_tweets = pad_sequences(test_tweets, maxlen = max_len)\n",
        "print(colored(\"Tokenizing and padding complete\", \"yellow\"))"
      ],
      "execution_count": 28,
      "outputs": [
        {
          "output_type": "stream",
          "text": [
            "\u001b[32mTokenizing and padding data\u001b[0m\n",
            "\u001b[33mTokenizing and padding complete\u001b[0m\n"
          ],
          "name": "stdout"
        }
      ]
    },
    {
      "cell_type": "code",
      "metadata": {
        "id": "vE3qj1NYqe2T",
        "colab_type": "code",
        "colab": {
          "base_uri": "https://localhost:8080/",
          "height": 306
        },
        "outputId": "3d9ef74c-37ad-4ee5-d5b3-dda8f7da004d"
      },
      "source": [
        "# Building the model\n",
        "print(colored(\"Creating the 1 Layer CNN model\", \"yellow\"))\n",
        "model_prediction = Sequential()\n",
        "model_prediction.add(Embedding(10000, 50, input_length=train_tweets.shape[1]))\n",
        "model_prediction.add(Conv1D(filters=250, kernel_size=3, padding='valid', activation='relu', strides=1))\n",
        "model_prediction.add(GlobalMaxPooling1D())\n",
        "model_prediction.add(Activation('relu'))\n",
        "model_prediction.compile(loss='binary_crossentropy', optimizer='adam', metrics=['accuracy'])   \n",
        "\n",
        "model_prediction.summary()"
      ],
      "execution_count": 43,
      "outputs": [
        {
          "output_type": "stream",
          "text": [
            "\u001b[33mCreating the 1 Layer CNN model\u001b[0m\n",
            "Model: \"sequential_14\"\n",
            "_________________________________________________________________\n",
            "Layer (type)                 Output Shape              Param #   \n",
            "=================================================================\n",
            "embedding_14 (Embedding)     (None, 37, 50)            500000    \n",
            "_________________________________________________________________\n",
            "conv1d_37 (Conv1D)           (None, 35, 250)           37750     \n",
            "_________________________________________________________________\n",
            "global_max_pooling1d_6 (Glob (None, 250)               0         \n",
            "_________________________________________________________________\n",
            "activation_8 (Activation)    (None, 250)               0         \n",
            "=================================================================\n",
            "Total params: 537,750\n",
            "Trainable params: 537,750\n",
            "Non-trainable params: 0\n",
            "_________________________________________________________________\n"
          ],
          "name": "stdout"
        }
      ]
    },
    {
      "cell_type": "code",
      "metadata": {
        "id": "Gw1UPOcoqvYB",
        "colab_type": "code",
        "colab": {
          "base_uri": "https://localhost:8080/",
          "height": 153
        },
        "outputId": "b2c90f9a-f580-485d-f032-95c2d02613c0"
      },
      "source": [
        "# Training the model\n",
        "print(colored(\"Training the 1 Layer CNN model\", \"green\"))\n",
        "history = model.fit(train_tweets, pd.get_dummies(tr['sent_score']).values, epochs = 3, batch_size = 128)\n",
        "print(colored(history, \"green\"))"
      ],
      "execution_count": 44,
      "outputs": [
        {
          "output_type": "stream",
          "text": [
            "\u001b[32mTraining the 1 Layer CNN model\u001b[0m\n",
            "Epoch 1/3\n",
            "20741/20741 [==============================] - 125s 6ms/step - loss: 0.4431 - accuracy: 0.8209\n",
            "Epoch 2/3\n",
            "20741/20741 [==============================] - 131s 6ms/step - loss: 0.4209 - accuracy: 0.8284\n",
            "Epoch 3/3\n",
            "20741/20741 [==============================] - 125s 6ms/step - loss: 0.3952 - accuracy: 0.8385\n",
            "\u001b[32m<keras.callbacks.callbacks.History object at 0x7f40ca752320>\u001b[0m\n"
          ],
          "name": "stdout"
        }
      ]
    },
    {
      "cell_type": "code",
      "metadata": {
        "id": "m7loW8hFq1jK",
        "colab_type": "code",
        "colab": {
          "base_uri": "https://localhost:8080/",
          "height": 102
        },
        "outputId": "f1b67fd7-206d-492c-afb2-a7fe613effd5"
      },
      "source": [
        " print(colored(\"Testing the 1 Layer CNN model\", \"green\"))\n",
        "\n",
        "loss, accuracy = model.evaluate(train_tweets, pd.get_dummies(tr['sent_score']).values, batch_size = 128)\n",
        "print(colored(\"Train accuracy: {}\".format(accuracy),\"yellow\"))\n",
        "x=accuracy\n",
        "score, accuracy = model.evaluate(test_tweets, pd.get_dummies(te['sent_score']).values, batch_size = 128)\n",
        "print(colored(\"Test accuracy: {}\".format(accuracy),\"yellow\"))\n",
        "\n",
        "y=accuracy"
      ],
      "execution_count": 101,
      "outputs": [
        {
          "output_type": "stream",
          "text": [
            "\u001b[32mTesting the 1 Layer CNN model\u001b[0m\n",
            "20741/20741 [==============================] - 31s 2ms/step\n",
            "\u001b[33mTrain accuracy: 0.8704016208648682\u001b[0m\n",
            "1749/1749 [==============================] - 3s 2ms/step\n",
            "\u001b[33mTest accuracy: 0.8153230547904968\u001b[0m\n"
          ],
          "name": "stdout"
        }
      ]
    },
    {
      "cell_type": "code",
      "metadata": {
        "id": "WKQ6ECn7tQLQ",
        "colab_type": "code",
        "colab": {
          "base_uri": "https://localhost:8080/",
          "height": 612
        },
        "outputId": "ae0608f1-65c8-41a2-e705-a558e9c557d2"
      },
      "source": [
        "# Building the model\n",
        "print(colored(\"Creating the 9 Layer CNN model\", \"yellow\"))\n",
        "model9_prediction = Sequential()\n",
        "model9_prediction.add(Embedding(10000, 50, input_length=train_tweets.shape[1]))\n",
        "model9_prediction.add(Conv1D(filters=250, kernel_size=3, padding='valid', activation='relu', strides=1))\n",
        "model9_prediction.add(Conv1D(filters=250, kernel_size=3))\n",
        "model9_prediction.add(Conv1D(filters=250, kernel_size=3))\n",
        "model9_prediction.add(Conv1D(filters=250, kernel_size=3))\n",
        "model9_prediction.add(Conv1D(filters=250, kernel_size=3))\n",
        "model9_prediction.add(Conv1D(filters=250, kernel_size=3))\n",
        "model9_prediction.add(Conv1D(filters=250, kernel_size=3))\n",
        "model9_prediction.add(Dense(3))\n",
        "model9_prediction.add(GlobalMaxPooling1D())\n",
        "model9_prediction.add(Dense(3))\n",
        "model9_prediction.add(Activation('relu'))\n",
        "model9_prediction.add(Dense(3))\n",
        "model9_prediction.compile(loss='binary_crossentropy', optimizer='adam', metrics=['accuracy'])   \n",
        "\n",
        "model9_prediction.summary()"
      ],
      "execution_count": 39,
      "outputs": [
        {
          "output_type": "stream",
          "text": [
            "\u001b[33mCreating the 9 Layer CNN model\u001b[0m\n",
            "Model: \"sequential_12\"\n",
            "_________________________________________________________________\n",
            "Layer (type)                 Output Shape              Param #   \n",
            "=================================================================\n",
            "embedding_12 (Embedding)     (None, 37, 50)            500000    \n",
            "_________________________________________________________________\n",
            "conv1d_11 (Conv1D)           (None, 35, 250)           37750     \n",
            "_________________________________________________________________\n",
            "conv1d_12 (Conv1D)           (None, 33, 250)           187750    \n",
            "_________________________________________________________________\n",
            "conv1d_13 (Conv1D)           (None, 31, 250)           187750    \n",
            "_________________________________________________________________\n",
            "conv1d_14 (Conv1D)           (None, 29, 250)           187750    \n",
            "_________________________________________________________________\n",
            "conv1d_15 (Conv1D)           (None, 27, 250)           187750    \n",
            "_________________________________________________________________\n",
            "conv1d_16 (Conv1D)           (None, 25, 250)           187750    \n",
            "_________________________________________________________________\n",
            "conv1d_17 (Conv1D)           (None, 23, 250)           187750    \n",
            "_________________________________________________________________\n",
            "dense_12 (Dense)             (None, 23, 3)             753       \n",
            "_________________________________________________________________\n",
            "global_max_pooling1d_5 (Glob (None, 3)                 0         \n",
            "_________________________________________________________________\n",
            "dense_13 (Dense)             (None, 3)                 12        \n",
            "_________________________________________________________________\n",
            "activation_7 (Activation)    (None, 3)                 0         \n",
            "_________________________________________________________________\n",
            "dense_14 (Dense)             (None, 3)                 12        \n",
            "=================================================================\n",
            "Total params: 1,665,027\n",
            "Trainable params: 1,665,027\n",
            "Non-trainable params: 0\n",
            "_________________________________________________________________\n"
          ],
          "name": "stdout"
        }
      ]
    },
    {
      "cell_type": "code",
      "metadata": {
        "id": "314zlfY72tKK",
        "colab_type": "code",
        "colab": {
          "base_uri": "https://localhost:8080/",
          "height": 207
        },
        "outputId": "6c17da1e-e859-4d19-8524-970faa2f2ec7"
      },
      "source": [
        "# Training the model\n",
        "print(colored(\"Training the 9 Layer CNN model\", \"green\"))\n",
        "history = model9_prediction.fit(train_tweets, pd.get_dummies(tr['sent_score']).values, epochs = 3, batch_size = 128)\n",
        "print(colored(history, \"green\"))"
      ],
      "execution_count": 40,
      "outputs": [
        {
          "output_type": "stream",
          "text": [
            "\u001b[32mTraining the 9 Layer CNN model\u001b[0m\n"
          ],
          "name": "stdout"
        },
        {
          "output_type": "stream",
          "text": [
            "/usr/local/lib/python3.6/dist-packages/tensorflow/python/framework/indexed_slices.py:434: UserWarning: Converting sparse IndexedSlices to a dense Tensor of unknown shape. This may consume a large amount of memory.\n",
            "  \"Converting sparse IndexedSlices to a dense Tensor of unknown shape. \"\n"
          ],
          "name": "stderr"
        },
        {
          "output_type": "stream",
          "text": [
            "Epoch 1/3\n",
            "20741/20741 [==============================] - 124s 6ms/step - loss: 1.0824 - accuracy: 0.6336\n",
            "Epoch 2/3\n",
            "20741/20741 [==============================] - 117s 6ms/step - loss: 1.0028 - accuracy: 0.6667\n",
            "Epoch 3/3\n",
            "20741/20741 [==============================] - 117s 6ms/step - loss: 0.9927 - accuracy: 0.6848\n",
            "\u001b[32m<keras.callbacks.callbacks.History object at 0x7f40d5dd17b8>\u001b[0m\n"
          ],
          "name": "stdout"
        }
      ]
    },
    {
      "cell_type": "code",
      "metadata": {
        "id": "Q3wa6F29w-nB",
        "colab_type": "code",
        "colab": {
          "base_uri": "https://localhost:8080/",
          "height": 102
        },
        "outputId": "194ac219-75ec-4b27-f6e3-28d06d9f2ba4"
      },
      "source": [
        " print(colored(\"Testing the 9 Layer CNN model\", \"green\"))\n",
        "\n",
        "loss, accuracy = model9_prediction.evaluate(train_tweets, pd.get_dummies(tr['sent_score']).values, batch_size = 128)\n",
        "print(colored(\"Train accuracy: {}\".format(accuracy),\"yellow\"))\n",
        "x1=accuracy\n",
        "score, accuracy = model9_prediction.evaluate(test_tweets, pd.get_dummies(te['sent_score']).values, batch_size = 128)\n",
        "print(colored(\"Test accuracy: {}\".format(accuracy),\"yellow\"))\n",
        "y1=accuracy\n",
        "\n"
      ],
      "execution_count": 100,
      "outputs": [
        {
          "output_type": "stream",
          "text": [
            "\u001b[32mTesting the 9 Layer CNN model\u001b[0m\n",
            "20741/20741 [==============================] - 17s 798us/step\n",
            "\u001b[33mTrain accuracy: 0.7031642198562622\u001b[0m\n",
            "1749/1749 [==============================] - 1s 800us/step\n",
            "\u001b[33mTest accuracy: 0.7061178088188171\u001b[0m\n"
          ],
          "name": "stdout"
        }
      ]
    },
    {
      "cell_type": "code",
      "metadata": {
        "id": "vPBZVhODzrxf",
        "colab_type": "code",
        "colab": {}
      },
      "source": [
        "from keras.layers import Convolution2D,Reshape"
      ],
      "execution_count": 71,
      "outputs": []
    },
    {
      "cell_type": "code",
      "metadata": {
        "id": "QQ-NZbuWxV8k",
        "colab_type": "code",
        "colab": {
          "base_uri": "https://localhost:8080/",
          "height": 918
        },
        "outputId": "80995213-88f9-4b40-dc88-215a4cdd7663"
      },
      "source": [
        "# Building the model\n",
        "print(colored(\"Creating the 19 Layer CNN model\", \"yellow\"))\n",
        "model19_prediction = Sequential()\n",
        "model19_prediction.add(Embedding(10000, 50, input_length=train_tweets.shape[1]))\n",
        "model19_prediction.add(Conv1D(filters=250, kernel_size=3, padding='valid', activation='relu', strides=1))\n",
        "\n",
        "model19_prediction.add(Conv1D(filters=250, kernel_size=3))\n",
        "model19_prediction.add(Conv1D(filters=250, kernel_size=3))\n",
        "model19_prediction.add(Conv1D(filters=250, kernel_size=3))\n",
        "model19_prediction.add(Conv1D(filters=250, kernel_size=3))\n",
        "model19_prediction.add(Conv1D(filters=250, kernel_size=3))\n",
        "model19_prediction.add(Conv1D(filters=250, kernel_size=3))\n",
        "\n",
        "model19_prediction.add(Conv1D(filters=250, kernel_size=3))\n",
        "model19_prediction.add(Conv1D(filters=250, kernel_size=3))\n",
        "model19_prediction.add(Conv1D(filters=250, kernel_size=3))\n",
        "model19_prediction.add(Conv1D(filters=250, kernel_size=3))\n",
        "model19_prediction.add(Conv1D(filters=250, kernel_size=3))\n",
        "model19_prediction.add(Conv1D(filters=250, kernel_size=3))\n",
        "\n",
        "model19_prediction.add(Conv1D(filters=250, kernel_size=3))\n",
        "model19_prediction.add(Conv1D(filters=250, kernel_size=3))\n",
        "model19_prediction.add(Conv1D(filters=250, kernel_size=3))\n",
        "\n",
        "\n",
        "model19_prediction.add(Dense(3))\n",
        "model19_prediction.add(GlobalMaxPooling1D())\n",
        "model19_prediction.add(Dense(3))\n",
        "model19_prediction.add(Activation('relu'))\n",
        "model19_prediction.add(Dense(3))\n",
        "model19_prediction.compile(loss='binary_crossentropy', optimizer='adam', metrics=['accuracy'])   \n",
        "\n",
        "model19_prediction.summary()"
      ],
      "execution_count": 74,
      "outputs": [
        {
          "output_type": "stream",
          "text": [
            "\u001b[33mCreating the 19 Layer CNN model\u001b[0m\n",
            "Model: \"sequential_38\"\n",
            "_________________________________________________________________\n",
            "Layer (type)                 Output Shape              Param #   \n",
            "=================================================================\n",
            "embedding_38 (Embedding)     (None, 37, 50)            500000    \n",
            "_________________________________________________________________\n",
            "conv1d_198 (Conv1D)          (None, 35, 250)           37750     \n",
            "_________________________________________________________________\n",
            "conv1d_199 (Conv1D)          (None, 33, 250)           187750    \n",
            "_________________________________________________________________\n",
            "conv1d_200 (Conv1D)          (None, 31, 250)           187750    \n",
            "_________________________________________________________________\n",
            "conv1d_201 (Conv1D)          (None, 29, 250)           187750    \n",
            "_________________________________________________________________\n",
            "conv1d_202 (Conv1D)          (None, 27, 250)           187750    \n",
            "_________________________________________________________________\n",
            "conv1d_203 (Conv1D)          (None, 25, 250)           187750    \n",
            "_________________________________________________________________\n",
            "conv1d_204 (Conv1D)          (None, 23, 250)           187750    \n",
            "_________________________________________________________________\n",
            "conv1d_205 (Conv1D)          (None, 21, 250)           187750    \n",
            "_________________________________________________________________\n",
            "conv1d_206 (Conv1D)          (None, 19, 250)           187750    \n",
            "_________________________________________________________________\n",
            "conv1d_207 (Conv1D)          (None, 17, 250)           187750    \n",
            "_________________________________________________________________\n",
            "conv1d_208 (Conv1D)          (None, 15, 250)           187750    \n",
            "_________________________________________________________________\n",
            "conv1d_209 (Conv1D)          (None, 13, 250)           187750    \n",
            "_________________________________________________________________\n",
            "conv1d_210 (Conv1D)          (None, 11, 250)           187750    \n",
            "_________________________________________________________________\n",
            "conv1d_211 (Conv1D)          (None, 9, 250)            187750    \n",
            "_________________________________________________________________\n",
            "conv1d_212 (Conv1D)          (None, 7, 250)            187750    \n",
            "_________________________________________________________________\n",
            "conv1d_213 (Conv1D)          (None, 5, 250)            187750    \n",
            "_________________________________________________________________\n",
            "dense_39 (Dense)             (None, 5, 3)              753       \n",
            "_________________________________________________________________\n",
            "global_max_pooling1d_16 (Glo (None, 3)                 0         \n",
            "_________________________________________________________________\n",
            "dense_40 (Dense)             (None, 3)                 12        \n",
            "_________________________________________________________________\n",
            "activation_16 (Activation)   (None, 3)                 0         \n",
            "_________________________________________________________________\n",
            "dense_41 (Dense)             (None, 3)                 12        \n",
            "=================================================================\n",
            "Total params: 3,354,777\n",
            "Trainable params: 3,354,777\n",
            "Non-trainable params: 0\n",
            "_________________________________________________________________\n"
          ],
          "name": "stdout"
        }
      ]
    },
    {
      "cell_type": "code",
      "metadata": {
        "id": "7XAMHFlcydDM",
        "colab_type": "code",
        "colab": {
          "base_uri": "https://localhost:8080/",
          "height": 85
        },
        "outputId": "7ec7f223-b234-420b-d405-adf3f762eece"
      },
      "source": [
        "# Training the model\n",
        "print(colored(\"Training the 19 Layer CNN model\", \"green\"))\n",
        "history = model19_prediction.fit(train_tweets, pd.get_dummies(tr['sent_score']).values, epochs = 1, batch_size = 128)\n",
        "print(colored(history, \"green\"))"
      ],
      "execution_count": 90,
      "outputs": [
        {
          "output_type": "stream",
          "text": [
            "\u001b[32mTraining the 19 Layer CNN model\u001b[0m\n",
            "Epoch 1/1\n",
            "20741/20741 [==============================] - 248s 12ms/step - loss: 5.1404 - accuracy: 0.0000e+00\n",
            "\u001b[32m<keras.callbacks.callbacks.History object at 0x7f40c91576a0>\u001b[0m\n"
          ],
          "name": "stdout"
        }
      ]
    },
    {
      "cell_type": "code",
      "metadata": {
        "id": "nu5W8I_nyltZ",
        "colab_type": "code",
        "colab": {
          "base_uri": "https://localhost:8080/",
          "height": 102
        },
        "outputId": "f0b41354-de4f-4d6b-c9bf-7919c917f427"
      },
      "source": [
        " print(colored(\"Testing the 19 Layer CNN model\", \"green\"))\n",
        "\n",
        "loss, accuracy =model19_prediction.evaluate(train_tweets, pd.get_dummies(tr['sent_score']).values, batch_size = 128)\n",
        "print(colored(\"Train accuracy: {}\".format(accuracy),\"yellow\"))\n",
        "\n",
        "x2=accuracy\n",
        "score, accuracy = model19_prediction.evaluate(test_tweets, pd.get_dummies(te['sent_score']).values, batch_size = 128)\n",
        "print(colored(\"Test accuracy: {}\".format(accuracy),\"yellow\"))\n",
        "\n",
        "y2=accuracy\n"
      ],
      "execution_count": 98,
      "outputs": [
        {
          "output_type": "stream",
          "text": [
            "\u001b[32mTesting the 19 Layer CNN model\u001b[0m\n",
            "20741/20741 [==============================] - 27s 1ms/step\n",
            "\u001b[33mTrain accuracy: 0.0\u001b[0m\n",
            "1749/1749 [==============================] - 2s 1ms/step\n",
            "\u001b[33mTest accuracy: 0.0\u001b[0m\n"
          ],
          "name": "stdout"
        }
      ]
    },
    {
      "cell_type": "code",
      "metadata": {
        "id": "CABZBPoSDUnM",
        "colab_type": "code",
        "colab": {
          "base_uri": "https://localhost:8080/",
          "height": 34
        },
        "outputId": "34087984-a0d6-4be7-a069-ef5a131ef272"
      },
      "source": [
        ""
      ],
      "execution_count": 96,
      "outputs": [
        {
          "output_type": "stream",
          "text": [
            "5.1404102305989845 0.0\n"
          ],
          "name": "stdout"
        }
      ]
    },
    {
      "cell_type": "code",
      "metadata": {
        "id": "NQ5hcANYyqqW",
        "colab_type": "code",
        "colab": {}
      },
      "source": [
        "from tabulate import tabulate\n"
      ],
      "execution_count": 84,
      "outputs": []
    },
    {
      "cell_type": "code",
      "metadata": {
        "id": "yyZ5PkkR9xPJ",
        "colab_type": "code",
        "colab": {
          "base_uri": "https://localhost:8080/",
          "height": 102
        },
        "outputId": "8e78985d-6c27-4283-dda6-b26fe8792ad3"
      },
      "source": [
        "print(tabulate([\n",
        "    ['1CNN',x,y], \n",
        "    ['9CNN',x1,y1],\n",
        "    ['19CNN',x2,y2]], \n",
        "    \n",
        "    headers=['Model', 'Training Accuracy','Testing Accuracy']))"
      ],
      "execution_count": 102,
      "outputs": [
        {
          "output_type": "stream",
          "text": [
            "Model      Training Accuracy    Testing Accuracy\n",
            "-------  -------------------  ------------------\n",
            "1CNN                0.870402            0.815323\n",
            "9CNN                0.703164            0.706118\n",
            "19CNN               0                   0\n"
          ],
          "name": "stdout"
        }
      ]
    },
    {
      "cell_type": "code",
      "metadata": {
        "id": "aHMm0pE3__wV",
        "colab_type": "code",
        "colab": {}
      },
      "source": [
        ""
      ],
      "execution_count": null,
      "outputs": []
    }
  ]
}