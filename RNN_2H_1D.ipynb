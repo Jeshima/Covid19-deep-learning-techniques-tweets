{
  "nbformat": 4,
  "nbformat_minor": 0,
  "metadata": {
    "colab": {
      "name": "RNN_2H_1D.ipynb",
      "provenance": [],
      "collapsed_sections": []
    },
    "kernelspec": {
      "name": "python3",
      "display_name": "Python 3"
    }
  },
  "cells": [
    {
      "cell_type": "code",
      "metadata": {
        "id": "gqfyzMW_oRSi",
        "colab_type": "code",
        "colab": {
          "base_uri": "https://localhost:8080/",
          "height": 34
        },
        "outputId": "7fb5744c-2a8d-4493-bd99-aa75f1358c47"
      },
      "source": [
        "import os\n",
        "import tensorflow\n",
        "os.environ['KERAS_BACKEND'] = 'tensorflow'\n",
        "\n",
        "import keras\n",
        "from keras.models import Sequential\n",
        "from keras.layers import Dense, Embedding, LSTM, SpatialDropout1D\n",
        "from keras.preprocessing.text import Tokenizer\n",
        "from keras.preprocessing.sequence import pad_sequences\n",
        "\n",
        "import pandas as pd\n",
        "from termcolor import colored\n",
        "\n"
      ],
      "execution_count": 1,
      "outputs": [
        {
          "output_type": "stream",
          "text": [
            "Using TensorFlow backend.\n"
          ],
          "name": "stderr"
        }
      ]
    },
    {
      "cell_type": "code",
      "metadata": {
        "id": "Lb0kFyZxoVM2",
        "colab_type": "code",
        "colab": {
          "base_uri": "https://localhost:8080/",
          "height": 122
        },
        "outputId": "60c7c6de-5caa-4997-9e7c-68c489257428"
      },
      "source": [
        "from google.colab import drive\n",
        "drive.mount('/content/drive/')"
      ],
      "execution_count": 2,
      "outputs": [
        {
          "output_type": "stream",
          "text": [
            "Go to this URL in a browser: https://accounts.google.com/o/oauth2/auth?client_id=947318989803-6bn6qk8qdgf4n4g3pfee6491hc0brc4i.apps.googleusercontent.com&redirect_uri=urn%3aietf%3awg%3aoauth%3a2.0%3aoob&response_type=code&scope=email%20https%3a%2f%2fwww.googleapis.com%2fauth%2fdocs.test%20https%3a%2f%2fwww.googleapis.com%2fauth%2fdrive%20https%3a%2f%2fwww.googleapis.com%2fauth%2fdrive.photos.readonly%20https%3a%2f%2fwww.googleapis.com%2fauth%2fpeopleapi.readonly\n",
            "\n",
            "Enter your authorization code:\n",
            "··········\n",
            "Mounted at /content/drive/\n"
          ],
          "name": "stdout"
        }
      ]
    },
    {
      "cell_type": "code",
      "metadata": {
        "id": "fE5PUbhcopUC",
        "colab_type": "code",
        "colab": {
          "base_uri": "https://localhost:8080/",
          "height": 68
        },
        "outputId": "e299604d-ce82-4037-c714-a2035fe26ad1"
      },
      "source": [
        "\n",
        "# Import twitter data\n",
        "print(colored(\"Loading train and test data\", \"green\"))\n",
        "\n",
        "tr = pd.read_csv(\"/content/drive/My Drive/big.csv\")\n",
        "te = pd.read_csv(\"/content/drive/My Drive/twt_#ifc.csv\")\n",
        "\n",
        "tr.full_text=tr.full_text.astype(str)\n",
        "te.full_text=te.full_text.astype(str)\n",
        "print(colored(\"... \\nData loaded\", \"green\"))\n"
      ],
      "execution_count": 3,
      "outputs": [
        {
          "output_type": "stream",
          "text": [
            "\u001b[32mLoading train and test data\u001b[0m\n",
            "\u001b[32m... \n",
            "Data loaded\u001b[0m\n"
          ],
          "name": "stdout"
        }
      ]
    },
    {
      "cell_type": "code",
      "metadata": {
        "id": "YLUG5irVp_BU",
        "colab_type": "code",
        "colab": {
          "base_uri": "https://localhost:8080/",
          "height": 51
        },
        "outputId": "bffb5842-e290-496c-9e91-34bfcde9c4b4"
      },
      "source": [
        "\n",
        "# Tokenization\n",
        "print(colored(\"Tokenizing and padding data\", \"green\"))\n",
        "tokenizer = Tokenizer(num_words = 2000, split = ' ')\n",
        "tokenizer.fit_on_texts(tr['full_text'].astype(str).values)\n",
        "train_tweets = tokenizer.texts_to_sequences(tr['full_text'].astype(str).values)\n",
        "max_len = max([len(i) for i in train_tweets])\n",
        "train_tweets = pad_sequences(train_tweets, maxlen = max_len)\n",
        "test_tweets = tokenizer.texts_to_sequences(te['full_text'].astype(str).values)\n",
        "test_tweets = pad_sequences(test_tweets, maxlen = max_len)\n",
        "print(colored(\"Tokenizing and padding complete\", \"yellow\"))"
      ],
      "execution_count": 4,
      "outputs": [
        {
          "output_type": "stream",
          "text": [
            "\u001b[32mTokenizing and padding data\u001b[0m\n",
            "\u001b[33mTokenizing and padding complete\u001b[0m\n"
          ],
          "name": "stdout"
        }
      ]
    },
    {
      "cell_type": "code",
      "metadata": {
        "id": "vE3qj1NYqe2T",
        "colab_type": "code",
        "colab": {
          "base_uri": "https://localhost:8080/",
          "height": 340
        },
        "outputId": "5fc01474-b7d1-4909-ea9e-b012e6fb9a76"
      },
      "source": [
        "# Building the model\n",
        "print(colored(\"Creating the Vanilla RNN model\", \"yellow\"))\n",
        "model = Sequential()\n",
        "model.add(Embedding(2000, 128, input_length = train_tweets.shape[1]))\n",
        "model.add(SpatialDropout1D(0.4))\n",
        "model.add(LSTM(256,return_sequences = True))\n",
        "model.add(LSTM(256,return_sequences = False))\n",
        "\n",
        "model.add(Dense(3, activation = 'softmax'))\n",
        "model.compile(loss = 'categorical_crossentropy', optimizer = 'adam', metrics = ['accuracy'])\n",
        "model.summary()"
      ],
      "execution_count": 14,
      "outputs": [
        {
          "output_type": "stream",
          "text": [
            "\u001b[33mCreating the Vanilla RNN model\u001b[0m\n",
            "Model: \"sequential_5\"\n",
            "_________________________________________________________________\n",
            "Layer (type)                 Output Shape              Param #   \n",
            "=================================================================\n",
            "embedding_5 (Embedding)      (None, 37, 128)           256000    \n",
            "_________________________________________________________________\n",
            "spatial_dropout1d_5 (Spatial (None, 37, 128)           0         \n",
            "_________________________________________________________________\n",
            "lstm_10 (LSTM)               (None, 37, 256)           394240    \n",
            "_________________________________________________________________\n",
            "lstm_11 (LSTM)               (None, 256)               525312    \n",
            "_________________________________________________________________\n",
            "dense_4 (Dense)              (None, 3)                 771       \n",
            "=================================================================\n",
            "Total params: 1,176,323\n",
            "Trainable params: 1,176,323\n",
            "Non-trainable params: 0\n",
            "_________________________________________________________________\n"
          ],
          "name": "stdout"
        }
      ]
    },
    {
      "cell_type": "code",
      "metadata": {
        "id": "Gw1UPOcoqvYB",
        "colab_type": "code",
        "colab": {
          "base_uri": "https://localhost:8080/",
          "height": 207
        },
        "outputId": "e1a6f7e6-0de0-4b11-afc5-ace3bce20bb9"
      },
      "source": [
        "# Training the model\n",
        "print(colored(\"Training the Vanilla RNN model\", \"green\"))\n",
        "history = model.fit(train_tweets, pd.get_dummies(tr['sent_score']).values, epochs = 3, batch_size = 128)\n",
        "print(colored(history, \"green\"))"
      ],
      "execution_count": 15,
      "outputs": [
        {
          "output_type": "stream",
          "text": [
            "\u001b[32mTraining the Vanilla RNN model\u001b[0m\n"
          ],
          "name": "stdout"
        },
        {
          "output_type": "stream",
          "text": [
            "/usr/local/lib/python3.6/dist-packages/tensorflow/python/framework/indexed_slices.py:434: UserWarning: Converting sparse IndexedSlices to a dense Tensor of unknown shape. This may consume a large amount of memory.\n",
            "  \"Converting sparse IndexedSlices to a dense Tensor of unknown shape. \"\n"
          ],
          "name": "stderr"
        },
        {
          "output_type": "stream",
          "text": [
            "Epoch 1/3\n",
            "20741/20741 [==============================] - 126s 6ms/step - loss: 0.8025 - accuracy: 0.6147\n",
            "Epoch 2/3\n",
            "20741/20741 [==============================] - 126s 6ms/step - loss: 0.5915 - accuracy: 0.7441\n",
            "Epoch 3/3\n",
            "20741/20741 [==============================] - 125s 6ms/step - loss: 0.5401 - accuracy: 0.7724\n",
            "\u001b[32m<keras.callbacks.callbacks.History object at 0x7f40cb089cf8>\u001b[0m\n"
          ],
          "name": "stdout"
        }
      ]
    },
    {
      "cell_type": "code",
      "metadata": {
        "id": "m7loW8hFq1jK",
        "colab_type": "code",
        "colab": {
          "base_uri": "https://localhost:8080/",
          "height": 102
        },
        "outputId": "434a62d5-d3e7-434e-a2db-203b0c12c7c5"
      },
      "source": [
        " print(colored(\"Testing the Vanilla RNN model\", \"green\"))\n",
        "\n",
        "loss, accuracy = model.evaluate(train_tweets, pd.get_dummies(tr['sent_score']).values, batch_size = 128)\n",
        "print(colored(\"Train accuracy: {}\".format(accuracy),\"yellow\"))\n",
        "\n",
        "score, accuracy = model.evaluate(test_tweets, pd.get_dummies(te['sent_score']).values, batch_size = 128)\n",
        "print(colored(\"Test accuracy: {}\".format(accuracy),\"yellow\"))\n",
        "\n"
      ],
      "execution_count": 16,
      "outputs": [
        {
          "output_type": "stream",
          "text": [
            "\u001b[32mTesting the Vanilla RNN model\u001b[0m\n",
            "20741/20741 [==============================] - 31s 2ms/step\n",
            "\u001b[33mTrain accuracy: 0.8015524744987488\u001b[0m\n",
            "1749/1749 [==============================] - 3s 2ms/step\n",
            "\u001b[33mTest accuracy: 0.7793024778366089\u001b[0m\n"
          ],
          "name": "stdout"
        }
      ]
    },
    {
      "cell_type": "code",
      "metadata": {
        "id": "WKQ6ECn7tQLQ",
        "colab_type": "code",
        "colab": {}
      },
      "source": [
        ""
      ],
      "execution_count": null,
      "outputs": []
    },
    {
      "cell_type": "code",
      "metadata": {
        "id": "314zlfY72tKK",
        "colab_type": "code",
        "colab": {}
      },
      "source": [
        ""
      ],
      "execution_count": null,
      "outputs": []
    }
  ]
}