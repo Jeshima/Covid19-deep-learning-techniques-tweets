{
  "nbformat": 4,
  "nbformat_minor": 0,
  "metadata": {
    "colab": {
      "name": "SimpleRNN_2H_1D.ipynb",
      "provenance": [],
      "collapsed_sections": []
    },
    "kernelspec": {
      "name": "python3",
      "display_name": "Python 3"
    }
  },
  "cells": [
    {
      "cell_type": "code",
      "metadata": {
        "id": "gqfyzMW_oRSi",
        "colab_type": "code",
        "colab": {
          "base_uri": "https://localhost:8080/",
          "height": 34
        },
        "outputId": "4fa48e6e-8a44-48fe-c7a1-3911431ff306"
      },
      "source": [
        "import os\n",
        "import tensorflow\n",
        "os.environ['KERAS_BACKEND'] = 'tensorflow'\n",
        "\n",
        "import keras\n",
        "from keras.models import Sequential\n",
        "from keras.layers import Dense, Embedding, LSTM, SpatialDropout1D,SimpleRNN\n",
        "from keras.preprocessing.text import Tokenizer\n",
        "from keras.preprocessing.sequence import pad_sequences\n",
        "\n",
        "import pandas as pd\n",
        "from termcolor import colored\n",
        "\n"
      ],
      "execution_count": 1,
      "outputs": [
        {
          "output_type": "stream",
          "text": [
            "Using TensorFlow backend.\n"
          ],
          "name": "stderr"
        }
      ]
    },
    {
      "cell_type": "code",
      "metadata": {
        "id": "Lb0kFyZxoVM2",
        "colab_type": "code",
        "colab": {
          "base_uri": "https://localhost:8080/",
          "height": 122
        },
        "outputId": "00c4982f-e0dc-40be-ed8b-d6eddcff8b6f"
      },
      "source": [
        "from google.colab import drive\n",
        "drive.mount('/content/drive/')"
      ],
      "execution_count": 2,
      "outputs": [
        {
          "output_type": "stream",
          "text": [
            "Go to this URL in a browser: https://accounts.google.com/o/oauth2/auth?client_id=947318989803-6bn6qk8qdgf4n4g3pfee6491hc0brc4i.apps.googleusercontent.com&redirect_uri=urn%3aietf%3awg%3aoauth%3a2.0%3aoob&response_type=code&scope=email%20https%3a%2f%2fwww.googleapis.com%2fauth%2fdocs.test%20https%3a%2f%2fwww.googleapis.com%2fauth%2fdrive%20https%3a%2f%2fwww.googleapis.com%2fauth%2fdrive.photos.readonly%20https%3a%2f%2fwww.googleapis.com%2fauth%2fpeopleapi.readonly\n",
            "\n",
            "Enter your authorization code:\n",
            "··········\n",
            "Mounted at /content/drive/\n"
          ],
          "name": "stdout"
        }
      ]
    },
    {
      "cell_type": "code",
      "metadata": {
        "id": "fE5PUbhcopUC",
        "colab_type": "code",
        "colab": {
          "base_uri": "https://localhost:8080/",
          "height": 68
        },
        "outputId": "fad9d0d2-7866-410d-b55e-9363a6fca691"
      },
      "source": [
        "\n",
        "# Import twitter data\n",
        "print(colored(\"Loading train and test data\", \"green\"))\n",
        "\n",
        "tr = pd.read_csv(\"/content/drive/My Drive/big.csv\")\n",
        "te = pd.read_csv(\"/content/drive/My Drive/twt_#ifc.csv\")\n",
        "\n",
        "tr.full_text=tr.full_text.astype(str)\n",
        "te.full_text=te.full_text.astype(str)\n",
        "print(colored(\"... \\nData loaded\", \"green\"))\n"
      ],
      "execution_count": 3,
      "outputs": [
        {
          "output_type": "stream",
          "text": [
            "\u001b[32mLoading train and test data\u001b[0m\n",
            "\u001b[32m... \n",
            "Data loaded\u001b[0m\n"
          ],
          "name": "stdout"
        }
      ]
    },
    {
      "cell_type": "code",
      "metadata": {
        "id": "YLUG5irVp_BU",
        "colab_type": "code",
        "colab": {
          "base_uri": "https://localhost:8080/",
          "height": 51
        },
        "outputId": "3a6ec993-bde5-4444-863f-099bfd38cd6a"
      },
      "source": [
        "\n",
        "# Tokenization\n",
        "print(colored(\"Tokenizing and padding data\", \"green\"))\n",
        "tokenizer = Tokenizer(num_words = 2000, split = ' ')\n",
        "tokenizer.fit_on_texts(tr['full_text'].astype(str).values)\n",
        "train_tweets = tokenizer.texts_to_sequences(tr['full_text'].astype(str).values)\n",
        "max_len = max([len(i) for i in train_tweets])\n",
        "train_tweets = pad_sequences(train_tweets, maxlen = max_len)\n",
        "test_tweets = tokenizer.texts_to_sequences(te['full_text'].astype(str).values)\n",
        "test_tweets = pad_sequences(test_tweets, maxlen = max_len)\n",
        "print(colored(\"Tokenizing and padding complete\", \"yellow\"))"
      ],
      "execution_count": 4,
      "outputs": [
        {
          "output_type": "stream",
          "text": [
            "\u001b[32mTokenizing and padding data\u001b[0m\n",
            "\u001b[33mTokenizing and padding complete\u001b[0m\n"
          ],
          "name": "stdout"
        }
      ]
    },
    {
      "cell_type": "code",
      "metadata": {
        "id": "vE3qj1NYqe2T",
        "colab_type": "code",
        "colab": {
          "base_uri": "https://localhost:8080/",
          "height": 340
        },
        "outputId": "85e0e4d8-1460-4e75-fa12-bd13c412f661"
      },
      "source": [
        "# Building the model\n",
        "print(colored(\"Creating the Vanilla RNN model\", \"yellow\"))\n",
        "model = Sequential()\n",
        "model.add(Embedding(2000, 128, input_length = train_tweets.shape[1]))\n",
        "model.add(SpatialDropout1D(0.4))\n",
        "model.add(SimpleRNN(256,return_sequences = True))\n",
        "model.add(SimpleRNN(256,return_sequences = False))\n",
        "\n",
        "model.add(Dense(3, activation = 'softmax'))\n",
        "model.compile(loss = 'categorical_crossentropy', optimizer = 'adam', metrics = ['accuracy'])\n",
        "model.summary()"
      ],
      "execution_count": 5,
      "outputs": [
        {
          "output_type": "stream",
          "text": [
            "\u001b[33mCreating the Vanilla RNN model\u001b[0m\n",
            "Model: \"sequential_1\"\n",
            "_________________________________________________________________\n",
            "Layer (type)                 Output Shape              Param #   \n",
            "=================================================================\n",
            "embedding_1 (Embedding)      (None, 37, 128)           256000    \n",
            "_________________________________________________________________\n",
            "spatial_dropout1d_1 (Spatial (None, 37, 128)           0         \n",
            "_________________________________________________________________\n",
            "simple_rnn_1 (SimpleRNN)     (None, 37, 256)           98560     \n",
            "_________________________________________________________________\n",
            "simple_rnn_2 (SimpleRNN)     (None, 256)               131328    \n",
            "_________________________________________________________________\n",
            "dense_1 (Dense)              (None, 3)                 771       \n",
            "=================================================================\n",
            "Total params: 486,659\n",
            "Trainable params: 486,659\n",
            "Non-trainable params: 0\n",
            "_________________________________________________________________\n"
          ],
          "name": "stdout"
        }
      ]
    },
    {
      "cell_type": "code",
      "metadata": {
        "id": "Gw1UPOcoqvYB",
        "colab_type": "code",
        "colab": {
          "base_uri": "https://localhost:8080/",
          "height": 207
        },
        "outputId": "eedfb1c3-4cbe-4ff4-9655-0ecddcf761fa"
      },
      "source": [
        "# Training the model\n",
        "print(colored(\"Training the Vanilla RNN model\", \"green\"))\n",
        "history = model.fit(train_tweets, pd.get_dummies(tr['sent_score']).values, epochs = 3, batch_size = 128)\n",
        "print(colored(history, \"green\"))"
      ],
      "execution_count": 6,
      "outputs": [
        {
          "output_type": "stream",
          "text": [
            "\u001b[32mTraining the Vanilla RNN model\u001b[0m\n"
          ],
          "name": "stdout"
        },
        {
          "output_type": "stream",
          "text": [
            "/usr/local/lib/python3.6/dist-packages/tensorflow/python/framework/indexed_slices.py:434: UserWarning: Converting sparse IndexedSlices to a dense Tensor of unknown shape. This may consume a large amount of memory.\n",
            "  \"Converting sparse IndexedSlices to a dense Tensor of unknown shape. \"\n"
          ],
          "name": "stderr"
        },
        {
          "output_type": "stream",
          "text": [
            "Epoch 1/3\n",
            "20741/20741 [==============================] - 35s 2ms/step - loss: 0.9313 - accuracy: 0.5210\n",
            "Epoch 2/3\n",
            "20741/20741 [==============================] - 34s 2ms/step - loss: 0.7181 - accuracy: 0.6666\n",
            "Epoch 3/3\n",
            "20741/20741 [==============================] - 34s 2ms/step - loss: 0.5249 - accuracy: 0.7790\n",
            "\u001b[32m<keras.callbacks.callbacks.History object at 0x7f7f5d6b7a58>\u001b[0m\n"
          ],
          "name": "stdout"
        }
      ]
    },
    {
      "cell_type": "code",
      "metadata": {
        "id": "m7loW8hFq1jK",
        "colab_type": "code",
        "colab": {
          "base_uri": "https://localhost:8080/",
          "height": 102
        },
        "outputId": "4f4e7524-fd1f-4808-de00-352f2f734497"
      },
      "source": [
        " print(colored(\"Testing the Vanilla RNN model\", \"green\"))\n",
        "\n",
        "loss, accuracy = model.evaluate(train_tweets, pd.get_dummies(tr['sent_score']).values, batch_size = 128)\n",
        "print(colored(\"Train accuracy: {}\".format(accuracy),\"yellow\"))\n",
        "\n",
        "score, accuracy = model.evaluate(test_tweets, pd.get_dummies(te['sent_score']).values, batch_size = 128)\n",
        "print(colored(\"Test accuracy: {}\".format(accuracy),\"yellow\"))\n",
        "\n"
      ],
      "execution_count": 7,
      "outputs": [
        {
          "output_type": "stream",
          "text": [
            "\u001b[32mTesting the Vanilla RNN model\u001b[0m\n",
            "20741/20741 [==============================] - 11s 514us/step\n",
            "\u001b[33mTrain accuracy: 0.864857017993927\u001b[0m\n",
            "1749/1749 [==============================] - 1s 526us/step\n",
            "\u001b[33mTest accuracy: 0.8033161759376526\u001b[0m\n"
          ],
          "name": "stdout"
        }
      ]
    },
    {
      "cell_type": "code",
      "metadata": {
        "id": "WKQ6ECn7tQLQ",
        "colab_type": "code",
        "colab": {}
      },
      "source": [
        ""
      ],
      "execution_count": null,
      "outputs": []
    },
    {
      "cell_type": "code",
      "metadata": {
        "id": "314zlfY72tKK",
        "colab_type": "code",
        "colab": {}
      },
      "source": [
        ""
      ],
      "execution_count": null,
      "outputs": []
    }
  ]
}